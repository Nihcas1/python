{
 "cells": [
  {
   "cell_type": "code",
   "execution_count": 2,
   "metadata": {},
   "outputs": [],
   "source": [
    "def major_element(list):\n",
    "    count = {}\n",
    "    \n",
    "    for i in list:\n",
    "        if i in count:\n",
    "            count[i] += 1\n",
    "        else:\n",
    "            count[i] = 1\n",
    "            \n",
    "    n = len(list)\n",
    "    for j in count:\n",
    "        if count[j] > n // 2:\n",
    "            return j \n",
    "    \n",
    "    return None\n",
    "\n",
    "\n"
   ]
  },
  {
   "cell_type": "code",
   "execution_count": 4,
   "metadata": {},
   "outputs": [
    {
     "name": "stdout",
     "output_type": "stream",
     "text": [
      "Majority Element: 4\n"
     ]
    }
   ],
   "source": [
    "l = [3, 3, 4, 2, 4, 4, 2, 4, 4]\n",
    "result = major_element(l)\n",
    "if result is not None:\n",
    "    print(\"Majority Element:\", result)\n",
    "else:\n",
    "    print(\"No majority element found.\")\n"
   ]
  },
  {
   "cell_type": "code",
   "execution_count": 7,
   "metadata": {},
   "outputs": [
    {
     "name": "stdout",
     "output_type": "stream",
     "text": [
      "Majority Element: 9\n"
     ]
    }
   ],
   "source": [
    "l = [9, 9, 9, 2, 2, 2, 9]\n",
    "result = major_element(l)\n",
    "if result is not None:\n",
    "    print(\"Majority Element:\", result)\n",
    "else:\n",
    "    print(\"No majority element found.\")"
   ]
  },
  {
   "cell_type": "code",
   "execution_count": 8,
   "metadata": {},
   "outputs": [
    {
     "name": "stdout",
     "output_type": "stream",
     "text": [
      "No majority element found.\n"
     ]
    },
    {
     "ename": "",
     "evalue": "",
     "output_type": "error",
     "traceback": [
      "\u001b[1;31mThe Kernel crashed while executing code in the current cell or a previous cell. \n",
      "\u001b[1;31mPlease review the code in the cell(s) to identify a possible cause of the failure. \n",
      "\u001b[1;31mClick <a href='https://aka.ms/vscodeJupyterKernelCrash'>here</a> for more info. \n",
      "\u001b[1;31mView Jupyter <a href='command:jupyter.viewOutput'>log</a> for further details."
     ]
    }
   ],
   "source": [
    "l = [1, 2, 3, 4, 5]\n",
    "result = major_element(l)\n",
    "if result is not None:\n",
    "    print(\"Majority Element:\", result)\n",
    "else:\n",
    "    print(\"No majority element found.\")\n"
   ]
  }
 ],
 "metadata": {
  "kernelspec": {
   "display_name": "base",
   "language": "python",
   "name": "python3"
  },
  "language_info": {
   "codemirror_mode": {
    "name": "ipython",
    "version": 3
   },
   "file_extension": ".py",
   "mimetype": "text/x-python",
   "name": "python",
   "nbconvert_exporter": "python",
   "pygments_lexer": "ipython3",
   "version": "3.12.4"
  }
 },
 "nbformat": 4,
 "nbformat_minor": 2
}
